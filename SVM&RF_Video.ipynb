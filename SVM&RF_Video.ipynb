{
  "nbformat": 4,
  "nbformat_minor": 0,
  "metadata": {
    "colab": {
      "name": "SVM&RF_Video.ipynb",
      "provenance": [],
      "collapsed_sections": [],
      "include_colab_link": true
    },
    "kernelspec": {
      "name": "python3",
      "display_name": "Python 3"
    }
  },
  "cells": [
    {
      "cell_type": "markdown",
      "metadata": {
        "id": "view-in-github",
        "colab_type": "text"
      },
      "source": [
        "<a href=\"https://colab.research.google.com/github/notmanan/Depression-Detection-Through-Multi-Modal-Data/blob/master/SVM%26RF_Video.ipynb\" target=\"_parent\"><img src=\"https://colab.research.google.com/assets/colab-badge.svg\" alt=\"Open In Colab\"/></a>"
      ]
    },
    {
      "cell_type": "markdown",
      "metadata": {
        "id": "ncPer7MulwaY",
        "colab_type": "text"
      },
      "source": [
        "**Connecting Drive to Google Colab**"
      ]
    },
    {
      "cell_type": "code",
      "metadata": {
        "id": "4FkprWXdn7N3",
        "colab_type": "code",
        "outputId": "1c03e054-521b-4fa7-de05-b7ed552c57f5",
        "colab": {
          "base_uri": "https://localhost:8080/",
          "height": 125
        }
      },
      "source": [
        "from google.colab import drive\n",
        "drive.mount('/content/drive')\n",
        "from sklearn.ensemble import RandomForestClassifier\n",
        "import pandas as pd\n",
        "import numpy as np\n",
        "from sklearn.svm import SVC\n",
        "from sklearn.metrics import classification_report"
      ],
      "execution_count": 0,
      "outputs": [
        {
          "output_type": "stream",
          "text": [
            "Go to this URL in a browser: https://accounts.google.com/o/oauth2/auth?client_id=947318989803-6bn6qk8qdgf4n4g3pfee6491hc0brc4i.apps.googleusercontent.com&redirect_uri=urn%3aietf%3awg%3aoauth%3a2.0%3aoob&response_type=code&scope=email%20https%3a%2f%2fwww.googleapis.com%2fauth%2fdocs.test%20https%3a%2f%2fwww.googleapis.com%2fauth%2fdrive%20https%3a%2f%2fwww.googleapis.com%2fauth%2fdrive.photos.readonly%20https%3a%2f%2fwww.googleapis.com%2fauth%2fpeopleapi.readonly\n",
            "\n",
            "Enter your authorization code:\n",
            "··········\n",
            "Mounted at /content/drive\n"
          ],
          "name": "stdout"
        }
      ]
    },
    {
      "cell_type": "markdown",
      "metadata": {
        "id": "J9ZapOLwl70D",
        "colab_type": "text"
      },
      "source": [
        "# Preparing Data"
      ]
    },
    {
      "cell_type": "code",
      "metadata": {
        "id": "Dzxb5JsroQ5y",
        "colab_type": "code",
        "colab": {}
      },
      "source": [
        "def processData(data):\n",
        "    # print(data)\n",
        "    X = data.iloc[:,:].values\n",
        "    X = np.delete(X, 0, 1)\n",
        "    X = np.delete(X, 1, 1)\n",
        "    X = np.mean(X, 0)\n",
        "    X = np.array(X.reshape(1, -1))\n",
        "    # print(X)\n",
        "    # print(X.shape)\n",
        "    return X\n",
        "\n",
        "def getData(filename):\n",
        "    # print(filename)\n",
        "    data = pd.read_csv(filename,delimiter=',')\n",
        "    X = processData(data)\n",
        "    return X\n",
        "\n",
        "def makeDataPoint(patientNo):\n",
        "    file1 = (patientNo)+\"_CLNF_AUs.txt\"\n",
        "    file2 = (patientNo)+\"_CLNF_features.txt\"\n",
        "    file3 = (patientNo)+\"_CLNF_features3D.txt\"\n",
        "    file4 = (patientNo)+\"_CLNF_gaze.txt\"\n",
        "    file5 = (patientNo)+\"_CLNF_hog.txt\"\n",
        "    file6 = (patientNo)+\"_CLNF_pose.txt\"\n",
        "\n",
        "    X1 = getData(file1)\n",
        "    X2 = getData(file2)\n",
        "    X3 = getData(file3)\n",
        "    X4 = getData(file4)\n",
        "    # X5 = getData(file5)\n",
        "    X6 = getData(file6)\n",
        "\n",
        "    X = np.concatenate((X1, X2, X3, X4, X6), 1)\n",
        "    return X\n",
        "\n",
        "\n",
        "dataset1 = np.array(pd.read_csv('/content/drive/My Drive/MCA Dataset/dev_split_Depression_AVEC2017.csv',delimiter=',',encoding='utf-8'))[:, 0:2]\n",
        "dataset2 = np.array(pd.read_csv('/content/drive/My Drive/MCA Dataset/full_test_split.csv',delimiter=',',encoding='utf-8'))[:, 0:2]\n",
        "dataset3 = np.array(pd.read_csv('/content/drive/My Drive/MCA Dataset/train_split_Depression_AVEC2017.csv',delimiter=',',encoding='utf-8'))[:, 0:2]\n",
        "\n",
        "dataset = np.concatenate((dataset1, np.concatenate((dataset2, dataset3))))\n",
        "positive = []\n",
        "negative = []\n",
        "\n",
        "for i in range(len(dataset)):\n",
        "    if dataset[i][0]<=310 and dataset[i][0]>=300:\n",
        "        if(dataset[i][1] == 0):\n",
        "            positive.append(int(dataset[i][0]))\n",
        "        else:\n",
        "            negative.append(int(dataset[i][0]))\n",
        "\n",
        "    elif dataset[i][0]<=355 and dataset[i][0]>=345:\n",
        "        if(dataset[i][1] == 0):\n",
        "            positive.append(int(dataset[i][0]))\n",
        "        else:\n",
        "            negative.append(int(dataset[i][0]))\n",
        "\n",
        "X = np.zeros((1,388))\n",
        "for i in positive:\n",
        "    string = '/content/drive/My Drive/MCA Dataset/positive_data/'+str(i)\n",
        "    X_temp = makeDataPoint(string)\n",
        "    X = np.concatenate((X,X_temp),0)\n",
        "Y = np.zeros((len(positive),1))\n",
        "for i in negative:\n",
        "    string = '/content/drive/My Drive/MCA Dataset/negative_data/'+str(i)\n",
        "    X_temp = makeDataPoint(string)\n",
        "    X = np.concatenate((X,X_temp),0)\n",
        "Y = np.concatenate((Y,np.ones((len(negative),1))),0)\n",
        "X = np.delete(X,0,0)\n",
        "\n",
        "# print(\"train\")\n",
        "X_train, Y_train = makeDataset('/content/drive/My Drive/MCA Dataset/train_split_Depression_AVEC2017.csv', 'train_data')\n",
        "# print(\"dev\")\n",
        "X_dev, Y_dev = makeDataset('/content/drive/My Drive/MCA Dataset/dev_split_Depression_AVEC2017.csv', 'dev_data')\n",
        "count0 = 0\n",
        "X_train = np.concatenate((X_train, X_dev), 0  )\n",
        "Y_train = np.concatenate((Y_train, Y_dev), 0  )\n",
        "\n",
        "# print(\"test\")\n",
        "X_test, Y_test = makeDataset('/content/drive/My Drive/MCA Dataset/full_test_split.csv', 'test_data')\n",
        "# print(Y_train)"
      ],
      "execution_count": 0,
      "outputs": []
    },
    {
      "cell_type": "markdown",
      "metadata": {
        "id": "padperlL6-ri",
        "colab_type": "text"
      },
      "source": [
        "**RF and SVM on dataset**"
      ]
    },
    {
      "cell_type": "code",
      "metadata": {
        "id": "ClUVyIzMXre8",
        "colab_type": "code",
        "colab": {}
      },
      "source": [
        "\n",
        "clf1 = RandomForestClassifier()\n",
        "clf1.fit(X_train,Y_train)\n",
        "clf1.predict(X_test)\n",
        "print(\"Random forest: \"+ str(clf1.score(X_test,Y_test)))\n",
        "\n",
        "\n",
        "classifier2 = SVC(kernel = 'rbf', random_state = 0)\n",
        "classifier2.fit(X_train, Y_train)\n",
        "classifier2.predict(X_test)\n",
        "print(\"SVM rbf: \"+ str(classifier2.score(X_test,Y_test)))\n",
        "\n",
        "clf1.predict(X_train)\n",
        "print(\"Random forest: train\"+ str(clf1.score(X_train,Y_train)))\n",
        "\n",
        "classifier2.predict(X_train)\n",
        "print(\"SVM: train  \"+ str(classifier2.score(X_train,Y_train)))\n",
        "\n",
        "\n",
        "y_pred = classifier2.predict(X_test)\n",
        "print(classification_report(Y_test, y_pred))"
      ],
      "execution_count": 0,
      "outputs": []
    },
    {
      "cell_type": "code",
      "metadata": {
        "id": "40NgARfxnKZF",
        "colab_type": "code",
        "colab": {}
      },
      "source": [
        "class RfVideo:\n",
        "  def __init__(self):\n",
        "    self.classifier = RandomForestClassifier()\n",
        "  \n",
        "  def fitModel(self, X, Y):\n",
        "    self.classfier.fit(X, Y)\n",
        "  \n",
        "  def predictModel(self, X):\n",
        "    return self.classifier.predict(X)\n",
        "  \n",
        "  def scoreModel(self, X, Y):\n",
        "    return self.classifier.score(X, Y)\n",
        "\n",
        "class SVMVideo:\n",
        "  def __init__(self, kernel = \"rbf\"):\n",
        "    self.classifier = SVC(kernel = kernel, random_state = 0)\n",
        "  \n",
        "  def fitModel(self, X, Y):\n",
        "    self.classfier.fit(X, Y)\n",
        "  \n",
        "  def predictModel(self, X):\n",
        "    return self.classifier.predict(X)\n",
        "  \n",
        "  def scoreModel(self, X, Y):\n",
        "    return self.classifier.score(X, Y)\n",
        "\n",
        "print(\"Random forest: \")\n",
        "rfModel = RfVideo()\n",
        "rfModel.fitModel(X_train, Y_train)\n",
        "Y_pred1  = rfModel.predict(X_test)\n",
        "print(classification_report(Y_test, Y_pred1))\n",
        "\n",
        "print(\"SVM: \")\n",
        "svmModel = SVMVideo()\n",
        "svmModel.fitModel(X_train, Y_train)\n",
        "Y_pred2  = svmModel.predict(X_test)\n",
        "print(classification_report(Y_test, Y_pred2))"
      ],
      "execution_count": 0,
      "outputs": []
    }
  ]
}