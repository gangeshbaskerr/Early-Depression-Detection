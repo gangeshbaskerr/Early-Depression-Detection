{
  "nbformat": 4,
  "nbformat_minor": 0,
  "metadata": {
    "colab": {
      "name": "SVM&RF_Audio.ipynb",
      "provenance": [],
      "collapsed_sections": [],
      "include_colab_link": true
    },
    "kernelspec": {
      "name": "python3",
      "display_name": "Python 3"
    }
  },
  "cells": [
    {
      "cell_type": "markdown",
      "metadata": {
        "id": "view-in-github",
        "colab_type": "text"
      },
      "source": [
        "<a href=\"https://colab.research.google.com/github/notmanan/Depression-Detection-Through-Multi-Modal-Data/blob/master/SVM%26RF_Audio.ipynb\" target=\"_parent\"><img src=\"https://colab.research.google.com/assets/colab-badge.svg\" alt=\"Open In Colab\"/></a>"
      ]
    },
    {
      "cell_type": "code",
      "metadata": {
        "id": "L-VgasDSEeOC",
        "colab_type": "code",
        "colab": {}
      },
      "source": [
        "#Mounting Colab with GDrive\n",
        "from google.colab import drive\n",
        "drive.mount('/content/drive')\n",
        "import os\n",
        "\n",
        "import numpy as np\n",
        "import pandas as pd \n",
        "from sklearn.ensemble import RandomForestClassifier\n",
        "\n",
        "from sklearn.svm import SVC\n",
        "from sklearn.metrics import classification_report\n",
        "\n",
        "import os\n",
        "os.chdir('drive/My Drive/MCA Dataset')"
      ],
      "execution_count": 0,
      "outputs": []
    },
    {
      "cell_type": "code",
      "metadata": {
        "id": "pMtx8AfdUev1",
        "colab_type": "code",
        "colab": {}
      },
      "source": [
        "def makedata(X):\n",
        "    for i in range(X.shape[0]):\n",
        "        if(X[i,1] == 0):\n",
        "            X[i,0] = 0\n",
        "            for j in range(7):\n",
        "                X[i,j+1] = 0\n",
        "    X = np.array(X)\n",
        "    X = np.average(X, axis = 0)\n",
        "    X = np.array(X.reshape(1, -1))\n",
        "    return X\n",
        "\n",
        "dev = np.array(pd.read_csv('/content/drive/My Drive/MCA Dataset/dev_split_Depression_AVEC2017.csv',delimiter=',',encoding='utf-8'))[:, 0:2]\n",
        "test = np.array(pd.read_csv('/content/drive/My Drive/MCA Dataset/full_test_split.csv',delimiter=',',encoding='utf-8'))[:, 0:2]\n",
        "train = np.array(pd.read_csv('/content/drive/My Drive/MCA Dataset/train_split_Depression_AVEC2017.csv',delimiter=',',encoding='utf-8'))[:, 0:2]\n",
        "\n",
        "X_train = np.zeros((1,74))\n",
        "Y_train = []\n",
        "\n",
        "X_test = np.zeros((1,74))\n",
        "Y_test = []\n",
        "\n",
        "for i in range(len(test)):\n",
        "    data = pd.read_csv('/content/drive/My Drive/MCA Dataset/test_data/'+str(int(test[i][0]))+\"_COVAREP.csv\",header = None)\n",
        "    X_temp = data.iloc[:,:].values\n",
        "    X_temp = makedata(X_temp)\n",
        "    X_test = np.concatenate((X_test,X_temp),0)\n",
        "    Y_test.append(test[i][1])\n",
        "    \n",
        "\n",
        "X_test = np.delete(X_test,0,0)\n",
        "Y_test = np.array(Y_test)\n",
        "count_0 = 0\n",
        "count_1 = 0\n",
        "\n",
        "for i in range(len(train)):\n",
        "    data = pd.read_csv('/content/drive/My Drive/MCA Dataset/train_data/'+str(int(train[i][0]))+\"_COVAREP.csv\",header = None)\n",
        "    if(train[i][1] == 0):\n",
        "      count_0 +=1\n",
        "      if(count_0<27):\n",
        "        X_temp = data.iloc[:,:].values\n",
        "        X_temp = makedata(X_temp)\n",
        "        X_train = np.concatenate((X_train,X_temp),0)\n",
        "        Y_train.append(train[i][1])\n",
        "    else:\n",
        "      count_1 +=1\n",
        "      if(count_1<27):\n",
        "        X_temp = data.iloc[:,:].values\n",
        "        X_temp = makedata(X_temp)\n",
        "        X_train = np.concatenate((X_train,X_temp),0)\n",
        "        Y_train.append(train[i][1])\n",
        "\n",
        "count_0 = 0\n",
        "count_1 = 0    \n",
        "\n",
        "for i in range(len(dev)):\n",
        "    data = pd.read_csv('/content/drive/My Drive/MCA Dataset/dev_data/'+str(int(dev[i][0]))+\"_COVAREP.csv\",header = None)\n",
        "    if(dev[i][1] == 0):\n",
        "      count_0 += 1\n",
        "      if(count_0<27):\n",
        "        X_temp = data.iloc[:,:].values\n",
        "        X_temp = makedata(X_temp)\n",
        "        X_train = np.concatenate((X_train,X_temp),0)\n",
        "        Y_train.append(dev[i][1])\n",
        "    else:\n",
        "      count_1+= 1\n",
        "      if(count_1<27):\n",
        "        X_temp = data.iloc[:,:].values\n",
        "        X_temp = makedata(X_temp)\n",
        "        X_train = np.concatenate((X_train,X_temp),0)\n",
        "        Y_train.append(dev[i][1])\n",
        "    \n",
        "\n",
        "X_train = np.delete(X_train,0,0)\n",
        "Y_train = np.array(Y_train)"
      ],
      "execution_count": 0,
      "outputs": []
    },
    {
      "cell_type": "markdown",
      "metadata": {
        "id": "z34guPYcmPU1",
        "colab_type": "text"
      },
      "source": [
        "# Running Models"
      ]
    },
    {
      "cell_type": "code",
      "metadata": {
        "id": "AyY7O3-si2_1",
        "colab_type": "code",
        "colab": {}
      },
      "source": [
        "class RfAudio:\n",
        "  def __init__(self):\n",
        "    self.classifier = RandomForestClassifier()\n",
        "  \n",
        "  def fitModel(self, X, Y):\n",
        "    self.classfier.fit(X, Y)\n",
        "  \n",
        "  def predictModel(self, X):\n",
        "    return self.classifier.predict(X)\n",
        "  \n",
        "  def scoreModel(self, X, Y):\n",
        "    return self.classifier.score(X, Y)\n",
        "\n",
        "class SVMAudio:\n",
        "  def __init__(self, kernel = \"rbf\"):\n",
        "    self.classifier = SVC(kernel = kernel, random_state = 0)\n",
        "  \n",
        "  def fitModel(self, X, Y):\n",
        "    self.classfier.fit(X, Y)\n",
        "  \n",
        "  def predictModel(self, X):\n",
        "    return self.classifier.predict(X)\n",
        "  \n",
        "  def scoreModel(self, X, Y):\n",
        "    return self.classifier.score(X, Y)\n",
        "\n",
        "\n",
        "rfModel = RfAudio()\n",
        "rfModel.fitModel(X_train, Y_train)\n",
        "Y_pred1  = rfModel.predict(X_test)\n",
        "print(\"Random forest: \")\n",
        "print(classification_report(Y_test, Y_pred1))\n",
        "\n",
        "svmModel = SVMAudio()\n",
        "svmModel.fitModel(X_train, Y_train)\n",
        "Y_pred2  = svmModel.predict(X_test)\n",
        "print(\"SVM: \")\n",
        "print(classification_report(Y_test, Y_pred2))"
      ],
      "execution_count": 0,
      "outputs": []
    }
  ]
}